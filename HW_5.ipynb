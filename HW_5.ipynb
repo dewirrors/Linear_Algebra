{
 "cells": [
  {
   "cell_type": "markdown",
   "id": "490a625e",
   "metadata": {},
   "source": [
    "## Практическое задание к уроку 5"
   ]
  },
  {
   "cell_type": "code",
   "execution_count": 37,
   "id": "bb7ee863",
   "metadata": {},
   "outputs": [],
   "source": [
    "import numpy as np"
   ]
  },
  {
   "cell_type": "code",
   "execution_count": 21,
   "id": "6eed6a64",
   "metadata": {},
   "outputs": [],
   "source": [
    "np.set_printoptions(precision=2, suppress=True)"
   ]
  },
  {
   "cell_type": "code",
   "execution_count": 22,
   "id": "59b444a8",
   "metadata": {},
   "outputs": [
    {
     "name": "stdout",
     "output_type": "stream",
     "text": [
      "Матрица A:\n",
      "[[ 1  2  0]\n",
      " [ 0  0  5]\n",
      " [ 3 -4  2]\n",
      " [ 1  6  5]\n",
      " [ 0  1  0]]\n"
     ]
    }
   ],
   "source": [
    "A = np.array([[1, 2, 0],\n",
    "              [0, 0, 5],\n",
    "              [3, -4, 2],\n",
    "              [1, 6, 5],\n",
    "              [0, 1, 0]])\n",
    "print(f'Матрица A:\\n{A}')"
   ]
  },
  {
   "cell_type": "markdown",
   "id": "54589838",
   "metadata": {},
   "source": [
    "### Задание 1"
   ]
  },
  {
   "cell_type": "markdown",
   "id": "a14c3da7",
   "metadata": {},
   "source": [
    "##### Создадим переменные U, s, W, представляющие матрицу U, массив сингулярных чисел и транспонированную матрицу V соответственно"
   ]
  },
  {
   "cell_type": "code",
   "execution_count": 23,
   "id": "75b034dd",
   "metadata": {},
   "outputs": [],
   "source": [
    "U, s, W = np.linalg.svd(A)"
   ]
  },
  {
   "cell_type": "markdown",
   "id": "90624f4e",
   "metadata": {},
   "source": [
    "##### Получим матрицу V путём транспонирования матрицы W"
   ]
  },
  {
   "cell_type": "code",
   "execution_count": 24,
   "id": "51dc91e1",
   "metadata": {},
   "outputs": [],
   "source": [
    "V = W.T"
   ]
  },
  {
   "cell_type": "markdown",
   "id": "8c7a9866",
   "metadata": {},
   "source": [
    "##### Приведём набор диагональных элементов массива сингулярных чисел к виду диагональной матрицы"
   ]
  },
  {
   "cell_type": "code",
   "execution_count": 26,
   "id": "1ac4540e",
   "metadata": {},
   "outputs": [
    {
     "name": "stdout",
     "output_type": "stream",
     "text": [
      "Матрица D:\n",
      "[[8.82 0.   0.  ]\n",
      " [0.   6.14 0.  ]\n",
      " [0.   0.   2.53]\n",
      " [0.   0.   0.  ]\n",
      " [0.   0.   0.  ]]\n"
     ]
    }
   ],
   "source": [
    "D = np.zeros_like(A, dtype=float)\n",
    "D[np.diag_indices(min(A.shape))] = s\n",
    "print(f'Матрица D:\\n{D}')"
   ]
  },
  {
   "cell_type": "markdown",
   "id": "71712e79",
   "metadata": {},
   "source": [
    "##### Выведем матрицу U и докажем её ортогональность"
   ]
  },
  {
   "cell_type": "code",
   "execution_count": 27,
   "id": "6fed320b",
   "metadata": {},
   "outputs": [
    {
     "name": "stdout",
     "output_type": "stream",
     "text": [
      "Матрица U:\n",
      "[[ 0.17  0.16 -0.53 -0.8  -0.16]\n",
      " [ 0.39 -0.53  0.61 -0.43  0.03]\n",
      " [-0.14 -0.82 -0.52  0.14  0.07]\n",
      " [ 0.89  0.06 -0.25  0.38 -0.06]\n",
      " [ 0.08  0.11 -0.08 -0.11  0.98]]\n"
     ]
    }
   ],
   "source": [
    "print(f'Матрица U:\\n{U}')"
   ]
  },
  {
   "cell_type": "code",
   "execution_count": 28,
   "id": "912458d7",
   "metadata": {},
   "outputs": [
    {
     "data": {
      "text/plain": [
       "array([[ 1., -0.,  0.,  0.,  0.],\n",
       "       [-0.,  1., -0., -0., -0.],\n",
       "       [ 0., -0.,  1.,  0., -0.],\n",
       "       [ 0., -0.,  0.,  1., -0.],\n",
       "       [ 0., -0., -0., -0.,  1.]])"
      ]
     },
     "execution_count": 28,
     "metadata": {},
     "output_type": "execute_result"
    }
   ],
   "source": [
    "np.dot(U.T, U)"
   ]
  },
  {
   "cell_type": "markdown",
   "id": "468cd75b",
   "metadata": {},
   "source": [
    "##### Выведем матрицу V и докажем её ортогональность"
   ]
  },
  {
   "cell_type": "code",
   "execution_count": 29,
   "id": "ad905657",
   "metadata": {},
   "outputs": [
    {
     "name": "stdout",
     "output_type": "stream",
     "text": [
      "Матрица V:\n",
      "[[ 0.07 -0.37 -0.93]\n",
      " [ 0.72  0.67 -0.21]\n",
      " [ 0.69 -0.65  0.31]]\n"
     ]
    }
   ],
   "source": [
    "print(f'Матрица V:\\n{V}')"
   ]
  },
  {
   "cell_type": "code",
   "execution_count": 30,
   "id": "3347f3b5",
   "metadata": {},
   "outputs": [
    {
     "data": {
      "text/plain": [
       "array([[1., 0., 0.],\n",
       "       [0., 1., 0.],\n",
       "       [0., 0., 1.]])"
      ]
     },
     "execution_count": 30,
     "metadata": {},
     "output_type": "execute_result"
    }
   ],
   "source": [
    "np.dot(V.T, V)"
   ]
  },
  {
   "cell_type": "markdown",
   "id": "26b80b4a",
   "metadata": {},
   "source": [
    "##### Выполним проверку, получив исходную матрицу A из матриц U, V и преобразованного массива сингулярных чисел"
   ]
  },
  {
   "cell_type": "code",
   "execution_count": 32,
   "id": "39685c3d",
   "metadata": {},
   "outputs": [
    {
     "data": {
      "text/plain": [
       "array([[ 1.,  2., -0.],\n",
       "       [-0.,  0.,  5.],\n",
       "       [ 3., -4.,  2.],\n",
       "       [ 1.,  6.,  5.],\n",
       "       [ 0.,  1.,  0.]])"
      ]
     },
     "execution_count": 32,
     "metadata": {},
     "output_type": "execute_result"
    }
   ],
   "source": [
    "np.dot(np.dot(U, D), V.T)"
   ]
  },
  {
   "cell_type": "markdown",
   "id": "61fe0d67",
   "metadata": {},
   "source": [
    "### Задание 2"
   ]
  },
  {
   "cell_type": "markdown",
   "id": "ce764508",
   "metadata": {},
   "source": [
    "##### Вычислим евклидову норму матрицы A"
   ]
  },
  {
   "cell_type": "code",
   "execution_count": 42,
   "id": "bb2a56f3",
   "metadata": {},
   "outputs": [
    {
     "data": {
      "text/plain": [
       "8.824868854820442"
      ]
     },
     "execution_count": 42,
     "metadata": {},
     "output_type": "execute_result"
    }
   ],
   "source": [
    "np.linalg.norm(A, ord=2)"
   ]
  },
  {
   "cell_type": "markdown",
   "id": "8c20fd32",
   "metadata": {},
   "source": [
    "##### Вычислим норму Фробениуса для матрицы A"
   ]
  },
  {
   "cell_type": "code",
   "execution_count": 43,
   "id": "d5e40025",
   "metadata": {},
   "outputs": [
    {
     "data": {
      "text/plain": [
       "11.045361017187261"
      ]
     },
     "execution_count": 43,
     "metadata": {},
     "output_type": "execute_result"
    }
   ],
   "source": [
    "np.linalg.norm(A, ord='fro')"
   ]
  }
 ],
 "metadata": {
  "kernelspec": {
   "display_name": "Python 3 (ipykernel)",
   "language": "python",
   "name": "python3"
  },
  "language_info": {
   "codemirror_mode": {
    "name": "ipython",
    "version": 3
   },
   "file_extension": ".py",
   "mimetype": "text/x-python",
   "name": "python",
   "nbconvert_exporter": "python",
   "pygments_lexer": "ipython3",
   "version": "3.9.7"
  }
 },
 "nbformat": 4,
 "nbformat_minor": 5
}
